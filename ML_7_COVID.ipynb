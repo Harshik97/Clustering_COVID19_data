{
  "nbformat": 4,
  "nbformat_minor": 0,
  "metadata": {
    "colab": {
      "name": "ML_7-COVID.ipynb",
      "provenance": [],
      "collapsed_sections": [],
      "authorship_tag": "ABX9TyN0rfDB2qdI/lEdzqmBeLi9",
      "include_colab_link": true
    },
    "kernelspec": {
      "name": "python3",
      "display_name": "Python 3"
    }
  },
  "cells": [
    {
      "cell_type": "markdown",
      "metadata": {
        "id": "view-in-github",
        "colab_type": "text"
      },
      "source": [
        "<a href=\"https://colab.research.google.com/github/Harshik97/Clustering_COVID19_data/blob/master/ML_7_COVID.ipynb\" target=\"_parent\"><img src=\"https://colab.research.google.com/assets/colab-badge.svg\" alt=\"Open In Colab\"/></a>"
      ]
    },
    {
      "cell_type": "code",
      "metadata": {
        "id": "v6Ogtlek5esx",
        "colab_type": "code",
        "colab": {}
      },
      "source": [
        "import pandas as pd\n",
        "import sklearn\n",
        "import matplotlib.pyplot as plt\n",
        "from sklearn.cluster import KMeans\n",
        "import numpy as np"
      ],
      "execution_count": null,
      "outputs": []
    },
    {
      "cell_type": "markdown",
      "metadata": {
        "id": "ZLwG8Xz4YfHC",
        "colab_type": "text"
      },
      "source": [
        ""
      ]
    },
    {
      "cell_type": "markdown",
      "metadata": {
        "id": "OsU-ZAVjSxTF",
        "colab_type": "text"
      },
      "source": [
        "**Importing and plotting data**"
      ]
    },
    {
      "cell_type": "markdown",
      "metadata": {
        "id": "XGgknNUOTIZr",
        "colab_type": "text"
      },
      "source": [
        "(a)"
      ]
    },
    {
      "cell_type": "code",
      "metadata": {
        "id": "4KiKBZb96tyE",
        "colab_type": "code",
        "colab": {}
      },
      "source": [
        "case_data=pd.read_csv('/content/us_states.csv')\n",
        "location_data=pd.read_csv('/content/statelatlong.csv')\n"
      ],
      "execution_count": null,
      "outputs": []
    },
    {
      "cell_type": "code",
      "metadata": {
        "id": "hBmrsYhD7q2X",
        "colab_type": "code",
        "colab": {}
      },
      "source": [
        "main_data=case_data.merge(location_data,how='left')"
      ],
      "execution_count": null,
      "outputs": []
    },
    {
      "cell_type": "code",
      "metadata": {
        "id": "-v-GuRto9CSm",
        "colab_type": "code",
        "colab": {
          "base_uri": "https://localhost:8080/",
          "height": 204
        },
        "outputId": "0ee89991-8cff-4669-c484-8097834a2b8b"
      },
      "source": [
        "main_data.head()"
      ],
      "execution_count": null,
      "outputs": [
        {
          "output_type": "execute_result",
          "data": {
            "text/html": [
              "<div>\n",
              "<style scoped>\n",
              "    .dataframe tbody tr th:only-of-type {\n",
              "        vertical-align: middle;\n",
              "    }\n",
              "\n",
              "    .dataframe tbody tr th {\n",
              "        vertical-align: top;\n",
              "    }\n",
              "\n",
              "    .dataframe thead th {\n",
              "        text-align: right;\n",
              "    }\n",
              "</style>\n",
              "<table border=\"1\" class=\"dataframe\">\n",
              "  <thead>\n",
              "    <tr style=\"text-align: right;\">\n",
              "      <th></th>\n",
              "      <th>date</th>\n",
              "      <th>City</th>\n",
              "      <th>fips</th>\n",
              "      <th>cases</th>\n",
              "      <th>deaths</th>\n",
              "      <th>State</th>\n",
              "      <th>Latitude</th>\n",
              "      <th>Longitude</th>\n",
              "    </tr>\n",
              "  </thead>\n",
              "  <tbody>\n",
              "    <tr>\n",
              "      <th>0</th>\n",
              "      <td>2020-01-24</td>\n",
              "      <td>Illinois</td>\n",
              "      <td>17</td>\n",
              "      <td>1</td>\n",
              "      <td>0</td>\n",
              "      <td>IL</td>\n",
              "      <td>39.739318</td>\n",
              "      <td>-89.504139</td>\n",
              "    </tr>\n",
              "    <tr>\n",
              "      <th>1</th>\n",
              "      <td>2020-01-25</td>\n",
              "      <td>California</td>\n",
              "      <td>6</td>\n",
              "      <td>1</td>\n",
              "      <td>0</td>\n",
              "      <td>CA</td>\n",
              "      <td>37.271875</td>\n",
              "      <td>-119.270415</td>\n",
              "    </tr>\n",
              "    <tr>\n",
              "      <th>2</th>\n",
              "      <td>2020-01-25</td>\n",
              "      <td>Illinois</td>\n",
              "      <td>17</td>\n",
              "      <td>1</td>\n",
              "      <td>0</td>\n",
              "      <td>IL</td>\n",
              "      <td>39.739318</td>\n",
              "      <td>-89.504139</td>\n",
              "    </tr>\n",
              "    <tr>\n",
              "      <th>3</th>\n",
              "      <td>2020-01-26</td>\n",
              "      <td>Arizona</td>\n",
              "      <td>4</td>\n",
              "      <td>1</td>\n",
              "      <td>0</td>\n",
              "      <td>AZ</td>\n",
              "      <td>34.168219</td>\n",
              "      <td>-111.930907</td>\n",
              "    </tr>\n",
              "    <tr>\n",
              "      <th>4</th>\n",
              "      <td>2020-01-26</td>\n",
              "      <td>California</td>\n",
              "      <td>6</td>\n",
              "      <td>2</td>\n",
              "      <td>0</td>\n",
              "      <td>CA</td>\n",
              "      <td>37.271875</td>\n",
              "      <td>-119.270415</td>\n",
              "    </tr>\n",
              "  </tbody>\n",
              "</table>\n",
              "</div>"
            ],
            "text/plain": [
              "         date        City  fips  cases  deaths State   Latitude   Longitude\n",
              "0  2020-01-24    Illinois    17      1       0    IL  39.739318  -89.504139\n",
              "1  2020-01-25  California     6      1       0    CA  37.271875 -119.270415\n",
              "2  2020-01-25    Illinois    17      1       0    IL  39.739318  -89.504139\n",
              "3  2020-01-26     Arizona     4      1       0    AZ  34.168219 -111.930907\n",
              "4  2020-01-26  California     6      2       0    CA  37.271875 -119.270415"
            ]
          },
          "metadata": {
            "tags": []
          },
          "execution_count": 310
        }
      ]
    },
    {
      "cell_type": "markdown",
      "metadata": {
        "id": "v91Ct02vTOSS",
        "colab_type": "text"
      },
      "source": [
        "(b)"
      ]
    },
    {
      "cell_type": "code",
      "metadata": {
        "id": "IrSgOxfj-KHE",
        "colab_type": "code",
        "colab": {}
      },
      "source": [
        "sampled_data=main_data.loc[main_data['date']=='2020-03-25']"
      ],
      "execution_count": null,
      "outputs": []
    },
    {
      "cell_type": "code",
      "metadata": {
        "id": "q5KMXQus_M57",
        "colab_type": "code",
        "colab": {
          "base_uri": "https://localhost:8080/",
          "height": 204
        },
        "outputId": "c58b84ab-90a3-45be-f992-dcf9d60cac41"
      },
      "source": [
        "sampled_data.head()"
      ],
      "execution_count": null,
      "outputs": [
        {
          "output_type": "execute_result",
          "data": {
            "text/html": [
              "<div>\n",
              "<style scoped>\n",
              "    .dataframe tbody tr th:only-of-type {\n",
              "        vertical-align: middle;\n",
              "    }\n",
              "\n",
              "    .dataframe tbody tr th {\n",
              "        vertical-align: top;\n",
              "    }\n",
              "\n",
              "    .dataframe thead th {\n",
              "        text-align: right;\n",
              "    }\n",
              "</style>\n",
              "<table border=\"1\" class=\"dataframe\">\n",
              "  <thead>\n",
              "    <tr style=\"text-align: right;\">\n",
              "      <th></th>\n",
              "      <th>date</th>\n",
              "      <th>City</th>\n",
              "      <th>fips</th>\n",
              "      <th>cases</th>\n",
              "      <th>deaths</th>\n",
              "      <th>State</th>\n",
              "      <th>Latitude</th>\n",
              "      <th>Longitude</th>\n",
              "    </tr>\n",
              "  </thead>\n",
              "  <tbody>\n",
              "    <tr>\n",
              "      <th>1163</th>\n",
              "      <td>2020-03-25</td>\n",
              "      <td>Alabama</td>\n",
              "      <td>1</td>\n",
              "      <td>386</td>\n",
              "      <td>1</td>\n",
              "      <td>AL</td>\n",
              "      <td>32.601011</td>\n",
              "      <td>-86.680736</td>\n",
              "    </tr>\n",
              "    <tr>\n",
              "      <th>1164</th>\n",
              "      <td>2020-03-25</td>\n",
              "      <td>Alaska</td>\n",
              "      <td>2</td>\n",
              "      <td>59</td>\n",
              "      <td>0</td>\n",
              "      <td>AK</td>\n",
              "      <td>61.302501</td>\n",
              "      <td>-158.775020</td>\n",
              "    </tr>\n",
              "    <tr>\n",
              "      <th>1165</th>\n",
              "      <td>2020-03-25</td>\n",
              "      <td>Arizona</td>\n",
              "      <td>4</td>\n",
              "      <td>402</td>\n",
              "      <td>6</td>\n",
              "      <td>AZ</td>\n",
              "      <td>34.168219</td>\n",
              "      <td>-111.930907</td>\n",
              "    </tr>\n",
              "    <tr>\n",
              "      <th>1166</th>\n",
              "      <td>2020-03-25</td>\n",
              "      <td>Arkansas</td>\n",
              "      <td>5</td>\n",
              "      <td>308</td>\n",
              "      <td>2</td>\n",
              "      <td>AR</td>\n",
              "      <td>34.751928</td>\n",
              "      <td>-92.131378</td>\n",
              "    </tr>\n",
              "    <tr>\n",
              "      <th>1167</th>\n",
              "      <td>2020-03-25</td>\n",
              "      <td>California</td>\n",
              "      <td>6</td>\n",
              "      <td>3183</td>\n",
              "      <td>67</td>\n",
              "      <td>CA</td>\n",
              "      <td>37.271875</td>\n",
              "      <td>-119.270415</td>\n",
              "    </tr>\n",
              "  </tbody>\n",
              "</table>\n",
              "</div>"
            ],
            "text/plain": [
              "            date        City  fips  cases  deaths State   Latitude   Longitude\n",
              "1163  2020-03-25     Alabama     1    386       1    AL  32.601011  -86.680736\n",
              "1164  2020-03-25      Alaska     2     59       0    AK  61.302501 -158.775020\n",
              "1165  2020-03-25     Arizona     4    402       6    AZ  34.168219 -111.930907\n",
              "1166  2020-03-25    Arkansas     5    308       2    AR  34.751928  -92.131378\n",
              "1167  2020-03-25  California     6   3183      67    CA  37.271875 -119.270415"
            ]
          },
          "metadata": {
            "tags": []
          },
          "execution_count": 312
        }
      ]
    },
    {
      "cell_type": "markdown",
      "metadata": {
        "id": "J_1Qp6qiTTRa",
        "colab_type": "text"
      },
      "source": [
        "(c)"
      ]
    },
    {
      "cell_type": "code",
      "metadata": {
        "id": "iKdT3VkwG8oX",
        "colab_type": "code",
        "colab": {}
      },
      "source": [
        "case_list=sampled_data['cases'].tolist()\n",
        "case_sampled_data=sampled_data[['cases','Latitude','Longitude','City']]\n",
        "\n"
      ],
      "execution_count": null,
      "outputs": []
    },
    {
      "cell_type": "code",
      "metadata": {
        "id": "-qalj73N_Q-O",
        "colab_type": "code",
        "colab": {}
      },
      "source": [
        "size=[i*(1/20) for i in case_list]\n"
      ],
      "execution_count": null,
      "outputs": []
    },
    {
      "cell_type": "code",
      "metadata": {
        "id": "xmklYu3WABBs",
        "colab_type": "code",
        "colab": {
          "base_uri": "https://localhost:8080/",
          "height": 279
        },
        "outputId": "211a3c99-9d5d-4a9e-d89a-0610bdd43688"
      },
      "source": [
        "colors=np.random.rand(53)\n",
        "plt.scatter(case_sampled_data['Longitude'],case_sampled_data['Latitude'],s=size,c=colors,alpha=0.5)\n",
        "plt.ylabel('Latitude')\n",
        "plt.xlabel('Longitude')\n",
        "plt.show()"
      ],
      "execution_count": null,
      "outputs": [
        {
          "output_type": "display_data",
          "data": {
            "image/png": "[encoded data removed]",
            "text/plain": [
              "<Figure size 432x288 with 1 Axes>"
            ]
          },
          "metadata": {
            "tags": [],
            "needs_background": "light"
          }
        }
      ]
    },
    {
      "cell_type": "code",
      "metadata": {
        "id": "ssHXYbcvWH3d",
        "colab_type": "code",
        "colab": {}
      },
      "source": [
        "X=case_sampled_data[['Longitude','Latitude','City']]\n",
        "\n",
        "X=X.dropna()\n"
      ],
      "execution_count": null,
      "outputs": []
    },
    {
      "cell_type": "markdown",
      "metadata": {
        "id": "4ApWHlkxTYF3",
        "colab_type": "text"
      },
      "source": [
        "**3.2 Geographical Distribution of Cases**"
      ]
    },
    {
      "cell_type": "markdown",
      "metadata": {
        "id": "2DeZVfFCTli-",
        "colab_type": "text"
      },
      "source": [
        "(a) Unweighted K-means clustering by location. "
      ]
    },
    {
      "cell_type": "code",
      "metadata": {
        "id": "LCBGkpIIBb7b",
        "colab_type": "code",
        "colab": {
          "base_uri": "https://localhost:8080/",
          "height": 296
        },
        "outputId": "93ac82c3-72af-4ccf-917f-32afd24d3bf4"
      },
      "source": [
        "\n",
        "\n",
        "\n",
        "loss1=[]\n",
        "\n",
        "for K in range(1,51):\n",
        " \n",
        "  X1=X[['Longitude','Latitude']]\n",
        " \n",
        "  kmeans=KMeans(n_clusters=K).fit(X1)\n",
        "  kmeans.predict(X1)\n",
        "  loss1.append(kmeans.inertia_)\n",
        "\n",
        "x=[x for x in range(1,51)]\n",
        "plt.plot(x,loss1,'*')\n",
        "plt.ylabel('Loss')\n",
        "plt.xlabel('Value of K')\n",
        "\n"
      ],
      "execution_count": null,
      "outputs": [
        {
          "output_type": "execute_result",
          "data": {
            "text/plain": [
              "Text(0.5, 0, 'Value of K')"
            ]
          },
          "metadata": {
            "tags": []
          },
          "execution_count": 319
        },
        {
          "output_type": "display_data",
          "data": {
            "image/png": "[encoded data removed]",
            "text/plain": [
              "<Figure size 432x288 with 1 Axes>"
            ]
          },
          "metadata": {
            "tags": [],
            "needs_background": "light"
          }
        }
      ]
    },
    {
      "cell_type": "code",
      "metadata": {
        "id": "1LnJ17xsStKH",
        "colab_type": "code",
        "colab": {}
      },
      "source": [
        ""
      ],
      "execution_count": null,
      "outputs": []
    },
    {
      "cell_type": "markdown",
      "metadata": {
        "id": "9r8gy4SKTr6j",
        "colab_type": "text"
      },
      "source": [
        "(b) Unweighted K-means clustering by location. "
      ]
    },
    {
      "cell_type": "code",
      "metadata": {
        "id": "x998Tn3qKdpZ",
        "colab_type": "code",
        "colab": {}
      },
      "source": [
        "\n",
        "X1=X[['Longitude','Latitude']]\n",
        "\n",
        "kmeans1=KMeans(n_clusters=15).fit(X1)\n",
        "kmeans1.predict(X1)\n",
        "cluster_centre1=kmeans1.cluster_centers_\n",
        "labels1=kmeans1.labels_\n"
      ],
      "execution_count": null,
      "outputs": []
    },
    {
      "cell_type": "code",
      "metadata": {
        "id": "QVHp-F-EQGi7",
        "colab_type": "code",
        "colab": {
          "base_uri": "https://localhost:8080/",
          "height": 279
        },
        "outputId": "02f8ad13-dd2c-4c5c-fc3a-f133ead86f62"
      },
      "source": [
        "X['labels']=labels1\n",
        "\n",
        "longitude=X['Longitude'].tolist()\n",
        "latitude=X['Latitude'].tolist()\n",
        "plt.plot(longitude,latitude,'.')\n",
        "for i in range(0,15):\n",
        "  \n",
        "  plt.plot(cluster_centre1[i,0],cluster_centre1[i,1],'r*')\n",
        "\n",
        "plt.ylabel('Latitude')\n",
        "plt.xlabel('Longitude')\n",
        "plt.show()\n",
        "\n"
      ],
      "execution_count": null,
      "outputs": [
        {
          "output_type": "display_data",
          "data": {
            "image/png": "[encoded data removed]",
            "text/plain": [
              "<Figure size 432x288 with 1 Axes>"
            ]
          },
          "metadata": {
            "tags": [],
            "needs_background": "light"
          }
        }
      ]
    },
    {
      "cell_type": "code",
      "metadata": {
        "id": "34PJGkg4R8vN",
        "colab_type": "code",
        "colab": {}
      },
      "source": [
        "for i in range(0,15):\n",
        "\n",
        "  row=X.loc[X['labels']==i]\n",
        "  \n",
        "  #print('Cities in Cluster ',i,'--')\n",
        "  #print('\\n ',row['City'])\n",
        "  "
      ],
      "execution_count": null,
      "outputs": []
    },
    {
      "cell_type": "code",
      "metadata": {
        "id": "blnN9VWwl-rG",
        "colab_type": "code",
        "colab": {}
      },
      "source": [
        "\n",
        "\n"
      ],
      "execution_count": null,
      "outputs": []
    },
    {
      "cell_type": "markdown",
      "metadata": {
        "id": "XWj8-gj3TzOI",
        "colab_type": "text"
      },
      "source": [
        "(c) Weighted K-Means by location"
      ]
    },
    {
      "cell_type": "code",
      "metadata": {
        "id": "2GhPrJvPS7xw",
        "colab_type": "code",
        "colab": {
          "base_uri": "https://localhost:8080/",
          "height": 296
        },
        "outputId": "17e46d81-8367-417b-ef71-f62ccb36a644"
      },
      "source": [
        "\n",
        "X=case_sampled_data[['Longitude','Latitude','City','cases']]\n",
        "\n",
        "X=X.dropna()\n",
        "\n",
        "loss1=[]\n",
        "for K in range(1,51):\n",
        "  X1=X[['Latitude','Longitude']]\n",
        "  kmeans=KMeans(n_clusters=K).fit(X1,sample_weight=X['cases'])\n",
        "  kmeans.predict(X1,sample_weight=X['cases'])\n",
        "  loss1.append(kmeans.inertia_)\n",
        "\n",
        "x=[x for x in range(1,51)]\n",
        "plt.plot(x,loss1,'*')\n",
        "plt.ylabel('Loss')\n",
        "plt.xlabel('Value of K')\n",
        "\n",
        "\n"
      ],
      "execution_count": null,
      "outputs": [
        {
          "output_type": "execute_result",
          "data": {
            "text/plain": [
              "Text(0.5, 0, 'Value of K')"
            ]
          },
          "metadata": {
            "tags": []
          },
          "execution_count": 324
        },
        {
          "output_type": "display_data",
          "data": {
            "image/png": "[encoded data removed]",
            "text/plain": [
              "<Figure size 432x288 with 1 Axes>"
            ]
          },
          "metadata": {
            "tags": [],
            "needs_background": "light"
          }
        }
      ]
    },
    {
      "cell_type": "markdown",
      "metadata": {
        "id": "N6j0NFCFUFRB",
        "colab_type": "text"
      },
      "source": [
        "(d) Weighted K-Means by location"
      ]
    },
    {
      "cell_type": "code",
      "metadata": {
        "id": "8XmK_DhCULgU",
        "colab_type": "code",
        "colab": {}
      },
      "source": [
        "X1=X[['Latitude','Longitude']]\n",
        "kmeans1=KMeans(n_clusters=15).fit(X1,sample_weight=X['cases'])\n",
        "kmeans1.predict(X1,sample_weight=X['cases'])\n",
        "cluster_centre1=kmeans1.cluster_centers_\n",
        "labels1=kmeans1.labels_"
      ],
      "execution_count": null,
      "outputs": []
    },
    {
      "cell_type": "code",
      "metadata": {
        "id": "CNQshx-wVH91",
        "colab_type": "code",
        "colab": {
          "base_uri": "https://localhost:8080/",
          "height": 279
        },
        "outputId": "a79ade36-1aa3-45fd-fb41-28171558ff21"
      },
      "source": [
        "X['labels']=labels1\n",
        "longitude=X['Longitude'].tolist()\n",
        "latitude=X['Latitude'].tolist()\n",
        "plt.plot(longitude,latitude,'.')\n",
        "for i in range(0,15):\n",
        "  \n",
        "  plt.plot(cluster_centre1[i,1],cluster_centre1[i,0],'r*')\n",
        "\n",
        "plt.ylabel('Latitude')\n",
        "plt.xlabel('Longitude')\n",
        "plt.show()"
      ],
      "execution_count": null,
      "outputs": [
        {
          "output_type": "display_data",
          "data": {
            "image/png": "[encoded data removed]",
            "text/plain": [
              "<Figure size 432x288 with 1 Axes>"
            ]
          },
          "metadata": {
            "tags": [],
            "needs_background": "light"
          }
        }
      ]
    },
    {
      "cell_type": "code",
      "metadata": {
        "id": "7MhYqJ5GVaP4",
        "colab_type": "code",
        "colab": {}
      },
      "source": [
        "for i in range(0,15):\n",
        "\n",
        "  row=X.loc[X['labels']==i]\n",
        "  \n",
        "  #print('Cities in Cluster ',i,'--')\n",
        "  #print('\\n ',row['City'])\n",
        "  "
      ],
      "execution_count": null,
      "outputs": []
    },
    {
      "cell_type": "markdown",
      "metadata": {
        "id": "g770xe3tMJZ1",
        "colab_type": "text"
      },
      "source": [
        "**3.3 Growth Rate Modeling and Distribution Analysis**"
      ]
    },
    {
      "cell_type": "markdown",
      "metadata": {
        "id": "lpEFCBCoVqLC",
        "colab_type": "text"
      },
      "source": [
        "(a) Plot of Cases Vs Date for New York and California"
      ]
    },
    {
      "cell_type": "code",
      "metadata": {
        "id": "Kb9bJaWOMNYD",
        "colab_type": "code",
        "colab": {}
      },
      "source": [
        "date_new=pd.Series(range(0,1862))"
      ],
      "execution_count": null,
      "outputs": []
    },
    {
      "cell_type": "code",
      "metadata": {
        "id": "MO1qzPiAMV8X",
        "colab_type": "code",
        "colab": {}
      },
      "source": [
        "case_data['date_replace']=date_new"
      ],
      "execution_count": null,
      "outputs": []
    },
    {
      "cell_type": "code",
      "metadata": {
        "id": "pc1G_vME5qVA",
        "colab_type": "code",
        "colab": {
          "base_uri": "https://localhost:8080/",
          "height": 419
        },
        "outputId": "b4d92295-5342-49fe-ad40-ae63844b28ee"
      },
      "source": [
        "case_data.rename(columns={\"date_replace\":\"Date\"})\n",
        "case_data.drop(columns=['date'],axis=1)"
      ],
      "execution_count": null,
      "outputs": [
        {
          "output_type": "execute_result",
          "data": {
            "text/html": [
              "<div>\n",
              "<style scoped>\n",
              "    .dataframe tbody tr th:only-of-type {\n",
              "        vertical-align: middle;\n",
              "    }\n",
              "\n",
              "    .dataframe tbody tr th {\n",
              "        vertical-align: top;\n",
              "    }\n",
              "\n",
              "    .dataframe thead th {\n",
              "        text-align: right;\n",
              "    }\n",
              "</style>\n",
              "<table border=\"1\" class=\"dataframe\">\n",
              "  <thead>\n",
              "    <tr style=\"text-align: right;\">\n",
              "      <th></th>\n",
              "      <th>City</th>\n",
              "      <th>fips</th>\n",
              "      <th>cases</th>\n",
              "      <th>deaths</th>\n",
              "      <th>date_replace</th>\n",
              "    </tr>\n",
              "  </thead>\n",
              "  <tbody>\n",
              "    <tr>\n",
              "      <th>0</th>\n",
              "      <td>Illinois</td>\n",
              "      <td>17</td>\n",
              "      <td>1</td>\n",
              "      <td>0</td>\n",
              "      <td>0</td>\n",
              "    </tr>\n",
              "    <tr>\n",
              "      <th>1</th>\n",
              "      <td>California</td>\n",
              "      <td>6</td>\n",
              "      <td>1</td>\n",
              "      <td>0</td>\n",
              "      <td>1</td>\n",
              "    </tr>\n",
              "    <tr>\n",
              "      <th>2</th>\n",
              "      <td>Illinois</td>\n",
              "      <td>17</td>\n",
              "      <td>1</td>\n",
              "      <td>0</td>\n",
              "      <td>2</td>\n",
              "    </tr>\n",
              "    <tr>\n",
              "      <th>3</th>\n",
              "      <td>Arizona</td>\n",
              "      <td>4</td>\n",
              "      <td>1</td>\n",
              "      <td>0</td>\n",
              "      <td>3</td>\n",
              "    </tr>\n",
              "    <tr>\n",
              "      <th>4</th>\n",
              "      <td>California</td>\n",
              "      <td>6</td>\n",
              "      <td>2</td>\n",
              "      <td>0</td>\n",
              "      <td>4</td>\n",
              "    </tr>\n",
              "    <tr>\n",
              "      <th>...</th>\n",
              "      <td>...</td>\n",
              "      <td>...</td>\n",
              "      <td>...</td>\n",
              "      <td>...</td>\n",
              "      <td>...</td>\n",
              "    </tr>\n",
              "    <tr>\n",
              "      <th>1857</th>\n",
              "      <td>Virgin Islands</td>\n",
              "      <td>78</td>\n",
              "      <td>43</td>\n",
              "      <td>1</td>\n",
              "      <td>1857</td>\n",
              "    </tr>\n",
              "    <tr>\n",
              "      <th>1858</th>\n",
              "      <td>Virginia</td>\n",
              "      <td>51</td>\n",
              "      <td>2878</td>\n",
              "      <td>54</td>\n",
              "      <td>1858</td>\n",
              "    </tr>\n",
              "    <tr>\n",
              "      <th>1859</th>\n",
              "      <td>West Virginia</td>\n",
              "      <td>54</td>\n",
              "      <td>345</td>\n",
              "      <td>4</td>\n",
              "      <td>1859</td>\n",
              "    </tr>\n",
              "    <tr>\n",
              "      <th>1860</th>\n",
              "      <td>Wisconsin</td>\n",
              "      <td>55</td>\n",
              "      <td>2440</td>\n",
              "      <td>83</td>\n",
              "      <td>1860</td>\n",
              "    </tr>\n",
              "    <tr>\n",
              "      <th>1861</th>\n",
              "      <td>Wyoming</td>\n",
              "      <td>56</td>\n",
              "      <td>212</td>\n",
              "      <td>0</td>\n",
              "      <td>1861</td>\n",
              "    </tr>\n",
              "  </tbody>\n",
              "</table>\n",
              "<p>1862 rows × 5 columns</p>\n",
              "</div>"
            ],
            "text/plain": [
              "                City  fips  cases  deaths  date_replace\n",
              "0           Illinois    17      1       0             0\n",
              "1         California     6      1       0             1\n",
              "2           Illinois    17      1       0             2\n",
              "3            Arizona     4      1       0             3\n",
              "4         California     6      2       0             4\n",
              "...              ...   ...    ...     ...           ...\n",
              "1857  Virgin Islands    78     43       1          1857\n",
              "1858        Virginia    51   2878      54          1858\n",
              "1859   West Virginia    54    345       4          1859\n",
              "1860       Wisconsin    55   2440      83          1860\n",
              "1861         Wyoming    56    212       0          1861\n",
              "\n",
              "[1862 rows x 5 columns]"
            ]
          },
          "metadata": {
            "tags": []
          },
          "execution_count": 270
        }
      ]
    },
    {
      "cell_type": "code",
      "metadata": {
        "id": "uV28EwXAN2S3",
        "colab_type": "code",
        "colab": {}
      },
      "source": [
        "ca=case_data.loc[case_data['City']=='California']\n",
        "ny=case_data.loc[case_data['City']=='New York']\n",
        "ny_cases=ny['cases'].to_numpy()\n",
        "ny_dates=ny['date_replace'].to_numpy()\n",
        "ca_cases=ca['cases'].to_numpy()\n",
        "ca_dates=ca['date_replace'].to_numpy()\n"
      ],
      "execution_count": null,
      "outputs": []
    },
    {
      "cell_type": "code",
      "metadata": {
        "id": "o-PrdRbgN21O",
        "colab_type": "code",
        "colab": {
          "base_uri": "https://localhost:8080/",
          "height": 279
        },
        "outputId": "a94b44a3-b149-4fdd-8b21-5df7668ae6f9"
      },
      "source": [
        "plt.plot(ny_dates,ny_cases,label='New York')\n",
        "plt.plot(ca_dates,ca_cases,label='California')\n",
        "plt.legend(loc='best')\n",
        "plt.ylabel('Number of cases')\n",
        "plt.xlabel('Time')\n",
        "plt.show()"
      ],
      "execution_count": null,
      "outputs": [
        {
          "output_type": "display_data",
          "data": {
            "image/png": "[encoded data removed]",
            "text/plain": [
              "<Figure size 432x288 with 1 Axes>"
            ]
          },
          "metadata": {
            "tags": [],
            "needs_background": "light"
          }
        }
      ]
    },
    {
      "cell_type": "markdown",
      "metadata": {
        "id": "AyrNWwysV3xi",
        "colab_type": "text"
      },
      "source": [
        "(b) Exponential modeling."
      ]
    },
    {
      "cell_type": "code",
      "metadata": {
        "id": "mLcz0ASaPjLa",
        "colab_type": "code",
        "colab": {}
      },
      "source": [
        "y=np.polyfit(ny_dates,np.log(ny_cases),1)"
      ],
      "execution_count": null,
      "outputs": []
    },
    {
      "cell_type": "code",
      "metadata": {
        "id": "FWOctw0Gcgbh",
        "colab_type": "code",
        "colab": {
          "base_uri": "https://localhost:8080/",
          "height": 34
        },
        "outputId": "3efc28b5-cf31-4ead-fd8a-14f9c8651184"
      },
      "source": [
        "A_NY=np.exp(y[1])\n",
        "B_NY=y[0]\n",
        "A_NY,B_NY"
      ],
      "execution_count": null,
      "outputs": [
        {
          "output_type": "execute_result",
          "data": {
            "text/plain": [
              "(5.751959231278503, 0.006430956741236124)"
            ]
          },
          "metadata": {
            "tags": []
          },
          "execution_count": 274
        }
      ]
    },
    {
      "cell_type": "code",
      "metadata": {
        "id": "PNht-qdvco3t",
        "colab_type": "code",
        "colab": {
          "base_uri": "https://localhost:8080/",
          "height": 34
        },
        "outputId": "257b802b-d9c3-4941-97ed-85a7054e6371"
      },
      "source": [
        "Z=np.polyfit(ca_dates,np.log(ca_cases),1)\n",
        "Z"
      ],
      "execution_count": null,
      "outputs": [
        {
          "output_type": "execute_result",
          "data": {
            "text/plain": [
              "array([0.00512605, 1.85507483])"
            ]
          },
          "metadata": {
            "tags": []
          },
          "execution_count": 275
        }
      ]
    },
    {
      "cell_type": "code",
      "metadata": {
        "id": "8WfxE5YwdFlx",
        "colab_type": "code",
        "colab": {}
      },
      "source": [
        "A_ca=np.exp(Z[1])\n",
        "B_ca=Z[0]"
      ],
      "execution_count": null,
      "outputs": []
    },
    {
      "cell_type": "code",
      "metadata": {
        "id": "6dMOw2S3dJOZ",
        "colab_type": "code",
        "colab": {
          "base_uri": "https://localhost:8080/",
          "height": 34
        },
        "outputId": "36ccd788-eec1-40d0-b28a-c5d7950e115d"
      },
      "source": [
        "A_ca,B_ca"
      ],
      "execution_count": null,
      "outputs": [
        {
          "output_type": "execute_result",
          "data": {
            "text/plain": [
              "(6.392176577500427, 0.0051260460412906874)"
            ]
          },
          "metadata": {
            "tags": []
          },
          "execution_count": 277
        }
      ]
    },
    {
      "cell_type": "markdown",
      "metadata": {
        "id": "NNLF6PoMWCsU",
        "colab_type": "text"
      },
      "source": [
        "(c) Exponential modeling."
      ]
    },
    {
      "cell_type": "code",
      "metadata": {
        "id": "YJ2k7-IuddBl",
        "colab_type": "code",
        "colab": {
          "base_uri": "https://localhost:8080/",
          "height": 279
        },
        "outputId": "f4719ce9-7010-419e-cbb1-7db1545c9cf4"
      },
      "source": [
        "plt.plot(ny_dates,A_NY*(np.exp(B_NY*ny_dates)),label='Trend in New York')\n",
        "plt.plot(ca_dates,A_ca*(np.exp(B_ca*ca_dates)),label='Trend in California')\n",
        "plt.plot(ny_dates,ny_cases,label='New York')\n",
        "plt.plot(ca_dates,ca_cases,label='California')\n",
        "plt.legend(loc='best')\n",
        "plt.ylabel('Number of cases')\n",
        "plt.xlabel('Time')\n",
        "plt.show()\n"
      ],
      "execution_count": null,
      "outputs": [
        {
          "output_type": "display_data",
          "data": {
            "image/png": "[encoded data removed]",
            "text/plain": [
              "<Figure size 432x288 with 1 Axes>"
            ]
          },
          "metadata": {
            "tags": [],
            "needs_background": "light"
          }
        }
      ]
    },
    {
      "cell_type": "markdown",
      "metadata": {
        "id": "GgRBqEx3WJ_3",
        "colab_type": "text"
      },
      "source": [
        "(d)K-means clustering by growth rate."
      ]
    },
    {
      "cell_type": "code",
      "metadata": {
        "id": "AsFJRAx4etqL",
        "colab_type": "code",
        "colab": {}
      },
      "source": [
        "A=[]\n",
        "B=[]\n",
        "cities=[]\n",
        "for city in case_data['City'].unique():\n",
        "    cities.append(city)\n",
        "    city=case_data.loc[case_data['City']==city]\n",
        "    cases=city['cases'].to_numpy()\n",
        "    date=city['date_replace'].to_numpy()\n",
        "    z=np.polyfit(date,np.log(cases),1)\n",
        "    a=np.exp(z[1])\n",
        "    b=z[0]\n",
        "    A.append(a)\n",
        "    B.append(b)\n"
      ],
      "execution_count": null,
      "outputs": []
    },
    {
      "cell_type": "code",
      "metadata": {
        "id": "cH6myu9x4OWI",
        "colab_type": "code",
        "colab": {}
      },
      "source": [
        "parameters=np.append(A,B)\n",
        "param1=parameters[:54].reshape(54,1)\n",
        "param2=parameters[54:].reshape(54,1)\n",
        "data={'City':cities,'A':A,'B':B}\n",
        "df=pd.DataFrame(data)\n",
        "X=df[['A','B']]\n",
        "loss3=[]\n",
        "for K in range(1,51):\n",
        "  \n",
        "  kmeans=KMeans(n_clusters=K).fit(X)\n",
        "  kmeans.predict(X)\n",
        "  loss3.append(kmeans.inertia_)"
      ],
      "execution_count": null,
      "outputs": []
    },
    {
      "cell_type": "code",
      "metadata": {
        "id": "L8b_G_7U4U4C",
        "colab_type": "code",
        "colab": {
          "base_uri": "https://localhost:8080/",
          "height": 1000
        },
        "outputId": "a25a7939-a77b-4ffa-daee-6e51112fe756"
      },
      "source": [
        "df\n"
      ],
      "execution_count": null,
      "outputs": [
        {
          "output_type": "execute_result",
          "data": {
            "text/html": [
              "<div>\n",
              "<style scoped>\n",
              "    .dataframe tbody tr th:only-of-type {\n",
              "        vertical-align: middle;\n",
              "    }\n",
              "\n",
              "    .dataframe tbody tr th {\n",
              "        vertical-align: top;\n",
              "    }\n",
              "\n",
              "    .dataframe thead th {\n",
              "        text-align: right;\n",
              "    }\n",
              "</style>\n",
              "<table border=\"1\" class=\"dataframe\">\n",
              "  <thead>\n",
              "    <tr style=\"text-align: right;\">\n",
              "      <th></th>\n",
              "      <th>City</th>\n",
              "      <th>A</th>\n",
              "      <th>B</th>\n",
              "      <th>Labels</th>\n",
              "    </tr>\n",
              "  </thead>\n",
              "  <tbody>\n",
              "    <tr>\n",
              "      <th>0</th>\n",
              "      <td>Illinois</td>\n",
              "      <td>1.286607</td>\n",
              "      <td>0.005746</td>\n",
              "      <td>0</td>\n",
              "    </tr>\n",
              "    <tr>\n",
              "      <th>1</th>\n",
              "      <td>California</td>\n",
              "      <td>6.392177</td>\n",
              "      <td>0.005126</td>\n",
              "      <td>1</td>\n",
              "    </tr>\n",
              "    <tr>\n",
              "      <th>2</th>\n",
              "      <td>Arizona</td>\n",
              "      <td>0.688975</td>\n",
              "      <td>0.004985</td>\n",
              "      <td>5</td>\n",
              "    </tr>\n",
              "    <tr>\n",
              "      <th>3</th>\n",
              "      <td>Massachusetts</td>\n",
              "      <td>0.815978</td>\n",
              "      <td>0.006168</td>\n",
              "      <td>5</td>\n",
              "    </tr>\n",
              "    <tr>\n",
              "      <th>4</th>\n",
              "      <td>Wisconsin</td>\n",
              "      <td>0.528785</td>\n",
              "      <td>0.005246</td>\n",
              "      <td>2</td>\n",
              "    </tr>\n",
              "    <tr>\n",
              "      <th>5</th>\n",
              "      <td>Texas</td>\n",
              "      <td>2.673775</td>\n",
              "      <td>0.004775</td>\n",
              "      <td>4</td>\n",
              "    </tr>\n",
              "    <tr>\n",
              "      <th>6</th>\n",
              "      <td>Nebraska</td>\n",
              "      <td>7.967280</td>\n",
              "      <td>0.002099</td>\n",
              "      <td>3</td>\n",
              "    </tr>\n",
              "    <tr>\n",
              "      <th>7</th>\n",
              "      <td>Utah</td>\n",
              "      <td>0.530835</td>\n",
              "      <td>0.004940</td>\n",
              "      <td>2</td>\n",
              "    </tr>\n",
              "    <tr>\n",
              "      <th>8</th>\n",
              "      <td>Oregon</td>\n",
              "      <td>1.495663</td>\n",
              "      <td>0.004090</td>\n",
              "      <td>0</td>\n",
              "    </tr>\n",
              "    <tr>\n",
              "      <th>9</th>\n",
              "      <td>Florida</td>\n",
              "      <td>1.992155</td>\n",
              "      <td>0.005496</td>\n",
              "      <td>7</td>\n",
              "    </tr>\n",
              "    <tr>\n",
              "      <th>10</th>\n",
              "      <td>New York</td>\n",
              "      <td>5.751959</td>\n",
              "      <td>0.006431</td>\n",
              "      <td>1</td>\n",
              "    </tr>\n",
              "    <tr>\n",
              "      <th>11</th>\n",
              "      <td>Rhode Island</td>\n",
              "      <td>0.911690</td>\n",
              "      <td>0.004066</td>\n",
              "      <td>5</td>\n",
              "    </tr>\n",
              "    <tr>\n",
              "      <th>12</th>\n",
              "      <td>Georgia</td>\n",
              "      <td>1.802396</td>\n",
              "      <td>0.005216</td>\n",
              "      <td>7</td>\n",
              "    </tr>\n",
              "    <tr>\n",
              "      <th>13</th>\n",
              "      <td>New Hampshire</td>\n",
              "      <td>0.891664</td>\n",
              "      <td>0.003977</td>\n",
              "      <td>5</td>\n",
              "    </tr>\n",
              "    <tr>\n",
              "      <th>14</th>\n",
              "      <td>North Carolina</td>\n",
              "      <td>0.703585</td>\n",
              "      <td>0.005080</td>\n",
              "      <td>5</td>\n",
              "    </tr>\n",
              "    <tr>\n",
              "      <th>15</th>\n",
              "      <td>New Jersey</td>\n",
              "      <td>1.028824</td>\n",
              "      <td>0.006524</td>\n",
              "      <td>5</td>\n",
              "    </tr>\n",
              "    <tr>\n",
              "      <th>16</th>\n",
              "      <td>Colorado</td>\n",
              "      <td>3.993255</td>\n",
              "      <td>0.004482</td>\n",
              "      <td>6</td>\n",
              "    </tr>\n",
              "    <tr>\n",
              "      <th>17</th>\n",
              "      <td>Maryland</td>\n",
              "      <td>1.259631</td>\n",
              "      <td>0.004775</td>\n",
              "      <td>0</td>\n",
              "    </tr>\n",
              "    <tr>\n",
              "      <th>18</th>\n",
              "      <td>Nevada</td>\n",
              "      <td>1.038824</td>\n",
              "      <td>0.004643</td>\n",
              "      <td>5</td>\n",
              "    </tr>\n",
              "    <tr>\n",
              "      <th>19</th>\n",
              "      <td>Tennessee</td>\n",
              "      <td>0.769078</td>\n",
              "      <td>0.005248</td>\n",
              "      <td>5</td>\n",
              "    </tr>\n",
              "    <tr>\n",
              "      <th>20</th>\n",
              "      <td>Hawaii</td>\n",
              "      <td>0.453046</td>\n",
              "      <td>0.004165</td>\n",
              "      <td>2</td>\n",
              "    </tr>\n",
              "    <tr>\n",
              "      <th>21</th>\n",
              "      <td>Indiana</td>\n",
              "      <td>0.511479</td>\n",
              "      <td>0.005495</td>\n",
              "      <td>2</td>\n",
              "    </tr>\n",
              "    <tr>\n",
              "      <th>22</th>\n",
              "      <td>Kentucky</td>\n",
              "      <td>0.999108</td>\n",
              "      <td>0.004216</td>\n",
              "      <td>5</td>\n",
              "    </tr>\n",
              "    <tr>\n",
              "      <th>23</th>\n",
              "      <td>Minnesota</td>\n",
              "      <td>0.995423</td>\n",
              "      <td>0.004353</td>\n",
              "      <td>5</td>\n",
              "    </tr>\n",
              "    <tr>\n",
              "      <th>24</th>\n",
              "      <td>Oklahoma</td>\n",
              "      <td>0.234070</td>\n",
              "      <td>0.005145</td>\n",
              "      <td>2</td>\n",
              "    </tr>\n",
              "    <tr>\n",
              "      <th>25</th>\n",
              "      <td>Pennsylvania</td>\n",
              "      <td>1.307368</td>\n",
              "      <td>0.005394</td>\n",
              "      <td>0</td>\n",
              "    </tr>\n",
              "    <tr>\n",
              "      <th>26</th>\n",
              "      <td>South Carolina</td>\n",
              "      <td>1.225563</td>\n",
              "      <td>0.004462</td>\n",
              "      <td>0</td>\n",
              "    </tr>\n",
              "    <tr>\n",
              "      <th>27</th>\n",
              "      <td>District of Columbia</td>\n",
              "      <td>1.007777</td>\n",
              "      <td>0.004233</td>\n",
              "      <td>5</td>\n",
              "    </tr>\n",
              "    <tr>\n",
              "      <th>28</th>\n",
              "      <td>Kansas</td>\n",
              "      <td>0.340433</td>\n",
              "      <td>0.004746</td>\n",
              "      <td>2</td>\n",
              "    </tr>\n",
              "    <tr>\n",
              "      <th>29</th>\n",
              "      <td>Missouri</td>\n",
              "      <td>0.148946</td>\n",
              "      <td>0.005976</td>\n",
              "      <td>2</td>\n",
              "    </tr>\n",
              "    <tr>\n",
              "      <th>30</th>\n",
              "      <td>Vermont</td>\n",
              "      <td>0.287091</td>\n",
              "      <td>0.004534</td>\n",
              "      <td>2</td>\n",
              "    </tr>\n",
              "    <tr>\n",
              "      <th>31</th>\n",
              "      <td>Virginia</td>\n",
              "      <td>1.238459</td>\n",
              "      <td>0.004539</td>\n",
              "      <td>0</td>\n",
              "    </tr>\n",
              "    <tr>\n",
              "      <th>32</th>\n",
              "      <td>Connecticut</td>\n",
              "      <td>0.506290</td>\n",
              "      <td>0.005822</td>\n",
              "      <td>2</td>\n",
              "    </tr>\n",
              "    <tr>\n",
              "      <th>33</th>\n",
              "      <td>Iowa</td>\n",
              "      <td>2.209989</td>\n",
              "      <td>0.003510</td>\n",
              "      <td>7</td>\n",
              "    </tr>\n",
              "    <tr>\n",
              "      <th>34</th>\n",
              "      <td>Louisiana</td>\n",
              "      <td>1.764700</td>\n",
              "      <td>0.005444</td>\n",
              "      <td>7</td>\n",
              "    </tr>\n",
              "    <tr>\n",
              "      <th>35</th>\n",
              "      <td>Ohio</td>\n",
              "      <td>0.868614</td>\n",
              "      <td>0.005153</td>\n",
              "      <td>5</td>\n",
              "    </tr>\n",
              "    <tr>\n",
              "      <th>36</th>\n",
              "      <td>Michigan</td>\n",
              "      <td>0.761101</td>\n",
              "      <td>0.006131</td>\n",
              "      <td>5</td>\n",
              "    </tr>\n",
              "    <tr>\n",
              "      <th>37</th>\n",
              "      <td>South Dakota</td>\n",
              "      <td>1.312807</td>\n",
              "      <td>0.002870</td>\n",
              "      <td>0</td>\n",
              "    </tr>\n",
              "    <tr>\n",
              "      <th>38</th>\n",
              "      <td>Arkansas</td>\n",
              "      <td>1.140538</td>\n",
              "      <td>0.004186</td>\n",
              "      <td>0</td>\n",
              "    </tr>\n",
              "    <tr>\n",
              "      <th>39</th>\n",
              "      <td>Delaware</td>\n",
              "      <td>0.516746</td>\n",
              "      <td>0.004317</td>\n",
              "      <td>2</td>\n",
              "    </tr>\n",
              "    <tr>\n",
              "      <th>40</th>\n",
              "      <td>Mississippi</td>\n",
              "      <td>0.371595</td>\n",
              "      <td>0.005211</td>\n",
              "      <td>2</td>\n",
              "    </tr>\n",
              "    <tr>\n",
              "      <th>41</th>\n",
              "      <td>New Mexico</td>\n",
              "      <td>1.446786</td>\n",
              "      <td>0.003539</td>\n",
              "      <td>0</td>\n",
              "    </tr>\n",
              "    <tr>\n",
              "      <th>42</th>\n",
              "      <td>North Dakota</td>\n",
              "      <td>0.146216</td>\n",
              "      <td>0.004433</td>\n",
              "      <td>2</td>\n",
              "    </tr>\n",
              "    <tr>\n",
              "      <th>43</th>\n",
              "      <td>Wyoming</td>\n",
              "      <td>0.395343</td>\n",
              "      <td>0.003705</td>\n",
              "      <td>2</td>\n",
              "    </tr>\n",
              "    <tr>\n",
              "      <th>44</th>\n",
              "      <td>Alaska</td>\n",
              "      <td>0.205500</td>\n",
              "      <td>0.004290</td>\n",
              "      <td>2</td>\n",
              "    </tr>\n",
              "    <tr>\n",
              "      <th>45</th>\n",
              "      <td>Maine</td>\n",
              "      <td>0.851848</td>\n",
              "      <td>0.003927</td>\n",
              "      <td>5</td>\n",
              "    </tr>\n",
              "    <tr>\n",
              "      <th>46</th>\n",
              "      <td>Alabama</td>\n",
              "      <td>1.759223</td>\n",
              "      <td>0.004248</td>\n",
              "      <td>7</td>\n",
              "    </tr>\n",
              "    <tr>\n",
              "      <th>47</th>\n",
              "      <td>Idaho</td>\n",
              "      <td>0.193962</td>\n",
              "      <td>0.005199</td>\n",
              "      <td>2</td>\n",
              "    </tr>\n",
              "    <tr>\n",
              "      <th>48</th>\n",
              "      <td>Montana</td>\n",
              "      <td>0.704944</td>\n",
              "      <td>0.003637</td>\n",
              "      <td>5</td>\n",
              "    </tr>\n",
              "    <tr>\n",
              "      <th>49</th>\n",
              "      <td>Puerto Rico</td>\n",
              "      <td>0.208869</td>\n",
              "      <td>0.004452</td>\n",
              "      <td>2</td>\n",
              "    </tr>\n",
              "    <tr>\n",
              "      <th>50</th>\n",
              "      <td>Virgin Islands</td>\n",
              "      <td>0.264435</td>\n",
              "      <td>0.003057</td>\n",
              "      <td>2</td>\n",
              "    </tr>\n",
              "    <tr>\n",
              "      <th>51</th>\n",
              "      <td>Guam</td>\n",
              "      <td>0.341926</td>\n",
              "      <td>0.003824</td>\n",
              "      <td>2</td>\n",
              "    </tr>\n",
              "    <tr>\n",
              "      <th>52</th>\n",
              "      <td>West Virginia</td>\n",
              "      <td>0.068335</td>\n",
              "      <td>0.004981</td>\n",
              "      <td>2</td>\n",
              "    </tr>\n",
              "    <tr>\n",
              "      <th>53</th>\n",
              "      <td>Northern Mariana Islands</td>\n",
              "      <td>0.010739</td>\n",
              "      <td>0.003766</td>\n",
              "      <td>2</td>\n",
              "    </tr>\n",
              "  </tbody>\n",
              "</table>\n",
              "</div>"
            ],
            "text/plain": [
              "                        City         A         B  Labels\n",
              "0                   Illinois  1.286607  0.005746       0\n",
              "1                 California  6.392177  0.005126       1\n",
              "2                    Arizona  0.688975  0.004985       5\n",
              "3              Massachusetts  0.815978  0.006168       5\n",
              "4                  Wisconsin  0.528785  0.005246       2\n",
              "5                      Texas  2.673775  0.004775       4\n",
              "6                   Nebraska  7.967280  0.002099       3\n",
              "7                       Utah  0.530835  0.004940       2\n",
              "8                     Oregon  1.495663  0.004090       0\n",
              "9                    Florida  1.992155  0.005496       7\n",
              "10                  New York  5.751959  0.006431       1\n",
              "11              Rhode Island  0.911690  0.004066       5\n",
              "12                   Georgia  1.802396  0.005216       7\n",
              "13             New Hampshire  0.891664  0.003977       5\n",
              "14            North Carolina  0.703585  0.005080       5\n",
              "15                New Jersey  1.028824  0.006524       5\n",
              "16                  Colorado  3.993255  0.004482       6\n",
              "17                  Maryland  1.259631  0.004775       0\n",
              "18                    Nevada  1.038824  0.004643       5\n",
              "19                 Tennessee  0.769078  0.005248       5\n",
              "20                    Hawaii  0.453046  0.004165       2\n",
              "21                   Indiana  0.511479  0.005495       2\n",
              "22                  Kentucky  0.999108  0.004216       5\n",
              "23                 Minnesota  0.995423  0.004353       5\n",
              "24                  Oklahoma  0.234070  0.005145       2\n",
              "25              Pennsylvania  1.307368  0.005394       0\n",
              "26            South Carolina  1.225563  0.004462       0\n",
              "27      District of Columbia  1.007777  0.004233       5\n",
              "28                    Kansas  0.340433  0.004746       2\n",
              "29                  Missouri  0.148946  0.005976       2\n",
              "30                   Vermont  0.287091  0.004534       2\n",
              "31                  Virginia  1.238459  0.004539       0\n",
              "32               Connecticut  0.506290  0.005822       2\n",
              "33                      Iowa  2.209989  0.003510       7\n",
              "34                 Louisiana  1.764700  0.005444       7\n",
              "35                      Ohio  0.868614  0.005153       5\n",
              "36                  Michigan  0.761101  0.006131       5\n",
              "37              South Dakota  1.312807  0.002870       0\n",
              "38                  Arkansas  1.140538  0.004186       0\n",
              "39                  Delaware  0.516746  0.004317       2\n",
              "40               Mississippi  0.371595  0.005211       2\n",
              "41                New Mexico  1.446786  0.003539       0\n",
              "42              North Dakota  0.146216  0.004433       2\n",
              "43                   Wyoming  0.395343  0.003705       2\n",
              "44                    Alaska  0.205500  0.004290       2\n",
              "45                     Maine  0.851848  0.003927       5\n",
              "46                   Alabama  1.759223  0.004248       7\n",
              "47                     Idaho  0.193962  0.005199       2\n",
              "48                   Montana  0.704944  0.003637       5\n",
              "49               Puerto Rico  0.208869  0.004452       2\n",
              "50            Virgin Islands  0.264435  0.003057       2\n",
              "51                      Guam  0.341926  0.003824       2\n",
              "52             West Virginia  0.068335  0.004981       2\n",
              "53  Northern Mariana Islands  0.010739  0.003766       2"
            ]
          },
          "metadata": {
            "tags": []
          },
          "execution_count": 329
        }
      ]
    },
    {
      "cell_type": "code",
      "metadata": {
        "id": "13umw7HW7TGt",
        "colab_type": "code",
        "colab": {
          "base_uri": "https://localhost:8080/",
          "height": 296
        },
        "outputId": "0f3ef71e-15d9-407a-8d8d-ecbff5605107"
      },
      "source": [
        "x=[x for x in range(1,51)]\n",
        "plt.plot(x,loss3,'*-')\n",
        "plt.ylabel('Loss')\n",
        "plt.xlabel('Value of K')"
      ],
      "execution_count": null,
      "outputs": [
        {
          "output_type": "execute_result",
          "data": {
            "text/plain": [
              "Text(0.5, 0, 'Value of K')"
            ]
          },
          "metadata": {
            "tags": []
          },
          "execution_count": 282
        },
        {
          "output_type": "display_data",
          "data": {
            "image/png": "[encoded data removed]",
            "text/plain": [
              "<Figure size 432x288 with 1 Axes>"
            ]
          },
          "metadata": {
            "tags": [],
            "needs_background": "light"
          }
        }
      ]
    },
    {
      "cell_type": "markdown",
      "metadata": {
        "id": "3UrZBMp-WTfZ",
        "colab_type": "text"
      },
      "source": [
        "(d) K-means clustering by growth rate."
      ]
    },
    {
      "cell_type": "code",
      "metadata": {
        "id": "mGng5kojCvgL",
        "colab_type": "code",
        "colab": {}
      },
      "source": [
        "kmeans1=KMeans(n_clusters=8).fit(X)\n",
        "labels=kmeans1.predict(X)"
      ],
      "execution_count": null,
      "outputs": []
    },
    {
      "cell_type": "code",
      "metadata": {
        "id": "fuHckKIm6fvU",
        "colab_type": "code",
        "colab": {}
      },
      "source": [
        "df['Labels']=labels"
      ],
      "execution_count": null,
      "outputs": []
    },
    {
      "cell_type": "code",
      "metadata": {
        "id": "83967cm57m0M",
        "colab_type": "code",
        "colab": {
          "base_uri": "https://localhost:8080/",
          "height": 1343
        },
        "outputId": "c0ed83f2-9a48-4bee-d319-a17b73caa1f9"
      },
      "source": [
        "for i in range(0,8):\n",
        "\n",
        "  row=df.loc[df['Labels']==i]\n",
        "  \n",
        "  print('Cities in Cluster ',i,'--')\n",
        "  print('\\n ',row['City'])\n",
        "  "
      ],
      "execution_count": null,
      "outputs": [
        {
          "output_type": "stream",
          "text": [
            "Cities in Cluster  0 --\n",
            "\n",
            "  0           Illinois\n",
            "8             Oregon\n",
            "17          Maryland\n",
            "25      Pennsylvania\n",
            "26    South Carolina\n",
            "31          Virginia\n",
            "37      South Dakota\n",
            "38          Arkansas\n",
            "41        New Mexico\n",
            "Name: City, dtype: object\n",
            "Cities in Cluster  1 --\n",
            "\n",
            "  1     California\n",
            "10      New York\n",
            "Name: City, dtype: object\n",
            "Cities in Cluster  2 --\n",
            "\n",
            "  4                    Wisconsin\n",
            "7                         Utah\n",
            "20                      Hawaii\n",
            "21                     Indiana\n",
            "24                    Oklahoma\n",
            "28                      Kansas\n",
            "29                    Missouri\n",
            "30                     Vermont\n",
            "32                 Connecticut\n",
            "39                    Delaware\n",
            "40                 Mississippi\n",
            "42                North Dakota\n",
            "43                     Wyoming\n",
            "44                      Alaska\n",
            "47                       Idaho\n",
            "49                 Puerto Rico\n",
            "50              Virgin Islands\n",
            "51                        Guam\n",
            "52               West Virginia\n",
            "53    Northern Mariana Islands\n",
            "Name: City, dtype: object\n",
            "Cities in Cluster  3 --\n",
            "\n",
            "  6    Nebraska\n",
            "Name: City, dtype: object\n",
            "Cities in Cluster  4 --\n",
            "\n",
            "  5    Texas\n",
            "Name: City, dtype: object\n",
            "Cities in Cluster  5 --\n",
            "\n",
            "  2                  Arizona\n",
            "3            Massachusetts\n",
            "11            Rhode Island\n",
            "13           New Hampshire\n",
            "14          North Carolina\n",
            "15              New Jersey\n",
            "18                  Nevada\n",
            "19               Tennessee\n",
            "22                Kentucky\n",
            "23               Minnesota\n",
            "27    District of Columbia\n",
            "35                    Ohio\n",
            "36                Michigan\n",
            "45                   Maine\n",
            "48                 Montana\n",
            "Name: City, dtype: object\n",
            "Cities in Cluster  6 --\n",
            "\n",
            "  16    Colorado\n",
            "Name: City, dtype: object\n",
            "Cities in Cluster  7 --\n",
            "\n",
            "  9       Florida\n",
            "12      Georgia\n",
            "33         Iowa\n",
            "34    Louisiana\n",
            "46      Alabama\n",
            "Name: City, dtype: object\n"
          ],
          "name": "stdout"
        }
      ]
    },
    {
      "cell_type": "code",
      "metadata": {
        "id": "no0sAIxq7wRS",
        "colab_type": "code",
        "colab": {
          "base_uri": "https://localhost:8080/",
          "height": 279
        },
        "outputId": "76682fc0-2fd5-4f51-c441-7a1a9644b740"
      },
      "source": [
        "plt.plot(B,A,'.')\n",
        "centre=kmeans1.cluster_centers_\n",
        "for i in range(0,8):\n",
        "  \n",
        "  plt.plot(centre[i,1],centre[i,0],'r*')\n",
        "\n",
        "plt.ylabel('A-Values')\n",
        "plt.xlabel('B-Values')\n",
        "plt.show()"
      ],
      "execution_count": null,
      "outputs": [
        {
          "output_type": "display_data",
          "data": {
            "image/png": "[encoded data removed]",
            "text/plain": [
              "<Figure size 432x288 with 1 Axes>"
            ]
          },
          "metadata": {
            "tags": [],
            "needs_background": "light"
          }
        }
      ]
    },
    {
      "cell_type": "code",
      "metadata": {
        "id": "a9-Lg8uX8rWJ",
        "colab_type": "code",
        "colab": {}
      },
      "source": [
        ""
      ],
      "execution_count": null,
      "outputs": []
    },
    {
      "cell_type": "code",
      "metadata": {
        "id": "uGb7tsls8wt6",
        "colab_type": "code",
        "colab": {}
      },
      "source": [
        ""
      ],
      "execution_count": null,
      "outputs": []
    }
  ]
}